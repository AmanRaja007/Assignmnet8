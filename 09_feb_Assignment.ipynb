{
 "cells": [
  {
   "cell_type": "markdown",
   "id": "f7754530-f27b-4157-a0a5-c9619022d711",
   "metadata": {},
   "source": [
    "Q1, Create a vehicle class with an init method having instance variables as name_of_vehicle, max_speed\n",
    "and average_of_vehicle."
   ]
  },
  {
   "cell_type": "code",
   "execution_count": 43,
   "id": "20bd2c1b-b4e3-44fd-ab9e-9426e4a76310",
   "metadata": {},
   "outputs": [
    {
     "data": {
      "text/plain": [
       "'70km/hr'"
      ]
     },
     "execution_count": 43,
     "metadata": {},
     "output_type": "execute_result"
    }
   ],
   "source": [
    "#Solution\n",
    "class vehicle:\n",
    "    def __init__(self,name_of_vehicle,max_speeed,average_of_vehicle):\n",
    "        self.name_of_vehicle = name_of_vehicle\n",
    "        self.max_speed = max_speeed\n",
    "        self.average_of_vehicle = average_of_vehicle\n",
    "obj_vehicle = vehicle(\"CAR\",\"100km/hr\",\"70km/hr\")\n",
    "obj_vehicle.average_of_vehicle"
   ]
  },
  {
   "cell_type": "code",
   "execution_count": 44,
   "id": "7710a2e7-915f-4686-95b7-5234d5ad9ef2",
   "metadata": {},
   "outputs": [],
   "source": [
    "obj_vehicle = vehicle(\"CAR\",\"100km/hr\",\"70km/hr\")"
   ]
  },
  {
   "cell_type": "code",
   "execution_count": 45,
   "id": "d07cde1e-18d8-40c8-87ae-c914ca3131e0",
   "metadata": {},
   "outputs": [
    {
     "data": {
      "text/plain": [
       "'70km/hr'"
      ]
     },
     "execution_count": 45,
     "metadata": {},
     "output_type": "execute_result"
    }
   ],
   "source": [
    "obj_vehicle.average_of_vehicle"
   ]
  },
  {
   "cell_type": "code",
   "execution_count": 46,
   "id": "9e1f07da-b9c7-424e-b8c3-eb8ed2c6641c",
   "metadata": {},
   "outputs": [
    {
     "data": {
      "text/plain": [
       "'CAR'"
      ]
     },
     "execution_count": 46,
     "metadata": {},
     "output_type": "execute_result"
    }
   ],
   "source": [
    "obj_vehicle.name_of_vehicle"
   ]
  },
  {
   "cell_type": "code",
   "execution_count": 47,
   "id": "e674e5e8-d80f-4384-98a9-1d6ce993a6bf",
   "metadata": {},
   "outputs": [
    {
     "data": {
      "text/plain": [
       "'100km/hr'"
      ]
     },
     "execution_count": 47,
     "metadata": {},
     "output_type": "execute_result"
    }
   ],
   "source": [
    "obj_vehicle.max_speed"
   ]
  },
  {
   "cell_type": "markdown",
   "id": "0705a7e3-d06b-4abd-beb8-87db85b293a2",
   "metadata": {},
   "source": [
    "Q2. Create a child class car from the vehicle class created in Que 1, which will inherit the vehicle class.\n",
    "Create a method named seating_capacity which takes capacity as an argument and returns the name of\n",
    "the vehicle and its seating capacity."
   ]
  },
  {
   "cell_type": "code",
   "execution_count": 51,
   "id": "de2793f3-1a89-4198-bf75-cff3460f2c3a",
   "metadata": {},
   "outputs": [],
   "source": [
    "#Solution\n",
    "class vehicle:\n",
    "    def __init__(self,name_of_vehicle,max_speeed,average_of_vehicle):\n",
    "        self.name_of_vehicle = name_of_vehicle\n",
    "        self.max_speed = max_speeed\n",
    "        self.average_of_vehicle = average_of_vehicle\n",
    "obj_vehicle = vehicle(\"CAR\",\"100km/hr\",\"70km/hr\")"
   ]
  },
  {
   "cell_type": "code",
   "execution_count": 53,
   "id": "6e04b84e-4c0f-467d-9ccf-7bfcb5c6c684",
   "metadata": {},
   "outputs": [
    {
     "name": "stdout",
     "output_type": "stream",
     "text": [
      "('Car', 5)\n"
     ]
    }
   ],
   "source": [
    "class Car(vehicle):\n",
    "    def seating_capacity(self, capacity):\n",
    "        self.capacity = capacity\n",
    "        return self.name_of_vehicle, self.capacity\n",
    "\n",
    "obj_car = Car(\"Car\", 200, 25)\n",
    "print(obj_car.seating_capacity(5))"
   ]
  },
  {
   "cell_type": "markdown",
   "id": "d82bb66f-ab18-45f8-80da-cdb1f72c9ac8",
   "metadata": {},
   "source": [
    "Q3. What is multiple inheritance? Write a python code to demonstrate multiple inheritance."
   ]
  },
  {
   "cell_type": "markdown",
   "id": "2b469033-0a34-47e8-b71b-0d63ab3fe7ea",
   "metadata": {},
   "source": [
    "#Solution\n",
    "Multiple Inheritance :When a class is derived from more than one base class it is called multiple Inheritance. The derived class inherits all the features of the base case. Syntax: Class Base1: Body of the class Class Base2: Body of the class Class Derived(Base1, Base2): Body of the class\n",
    "for example:\n"
   ]
  },
  {
   "cell_type": "code",
   "execution_count": 1,
   "id": "435cf4b0-3885-4a68-ba95-4520a60ff38f",
   "metadata": {},
   "outputs": [],
   "source": [
    "class test1:\n",
    "    \n",
    "    def test1_method(self):\n",
    "        return \"This is my first class method\""
   ]
  },
  {
   "cell_type": "code",
   "execution_count": 2,
   "id": "f6308f3b-e52f-4d4d-abc4-6cdfa46c542f",
   "metadata": {},
   "outputs": [],
   "source": [
    "class test2:\n",
    "    def test2_method(self):\n",
    "        return \"This is second class method\""
   ]
  },
  {
   "cell_type": "code",
   "execution_count": 3,
   "id": "db97f49c-ae62-4dc8-a84b-c9879a3ea4dd",
   "metadata": {},
   "outputs": [],
   "source": [
    "class test3(test1,test2):\n",
    "    def test_method(self):\n",
    "        pass"
   ]
  },
  {
   "cell_type": "code",
   "execution_count": 4,
   "id": "bc1d2cc9-7022-4361-a7de-e28b50728c6a",
   "metadata": {},
   "outputs": [],
   "source": [
    "obj_child_class = test3()"
   ]
  },
  {
   "cell_type": "code",
   "execution_count": 5,
   "id": "c7ed0f89-35a2-490f-a80d-c24e6c531f34",
   "metadata": {},
   "outputs": [
    {
     "data": {
      "text/plain": [
       "'This is my first class method'"
      ]
     },
     "execution_count": 5,
     "metadata": {},
     "output_type": "execute_result"
    }
   ],
   "source": [
    "obj_child_class.test1_method()"
   ]
  },
  {
   "cell_type": "code",
   "execution_count": 7,
   "id": "3b52036b-0e87-41bd-8410-4894fe5e35ba",
   "metadata": {},
   "outputs": [
    {
     "data": {
      "text/plain": [
       "'This is second class method'"
      ]
     },
     "execution_count": 7,
     "metadata": {},
     "output_type": "execute_result"
    }
   ],
   "source": [
    "obj_child_class.test2_method()"
   ]
  },
  {
   "cell_type": "markdown",
   "id": "0a15dd34-6c1d-4b8d-9407-ffd03261a1f3",
   "metadata": {},
   "source": [
    "Q4. What are getter and setter in python? Create a class and create a getter and a setter method in this\n",
    "class."
   ]
  },
  {
   "cell_type": "markdown",
   "id": "c72fdddd-8b99-4626-84b9-7838e64df3ac",
   "metadata": {},
   "source": [
    "#Solution\n",
    "In Python, getters and setters are not the same as those in other object-oriented programming languages. Basically, the main purpose of using getters and setters in object-oriented programs is to ensure data encapsulation. Private variables in python are not actually hidden fields like in other object oriented languages. Getters and Setters in python are often used when:\n",
    "We use getters & setters to add validation logic around getting and setting a value.\n",
    "To avoid direct access of a class field i.e. private variables cannot be accessed directly or modified by external user. for example:"
   ]
  },
  {
   "cell_type": "code",
   "execution_count": 27,
   "id": "72a25b1b-57e2-41d9-a794-1fb506944bba",
   "metadata": {},
   "outputs": [],
   "source": [
    "class Person:\n",
    "    \n",
    "    def __init__(self,age=0):\n",
    "        self.age = age\n",
    "        \n",
    "    #getter method\n",
    "    def get_age(self):\n",
    "        return self._age\n",
    "    \n",
    "    #Setter method \n",
    "    def set_age(self,x):\n",
    "        self._age = x\n",
    "        \n",
    "    "
   ]
  },
  {
   "cell_type": "code",
   "execution_count": 28,
   "id": "3dfb61bf-c3a4-4414-b552-2570524c0022",
   "metadata": {},
   "outputs": [],
   "source": [
    "Aman = Person()"
   ]
  },
  {
   "cell_type": "code",
   "execution_count": 31,
   "id": "9d309cf7-c92a-461f-a308-356da0dbce2d",
   "metadata": {},
   "outputs": [],
   "source": [
    "Aman.set_age(20)"
   ]
  },
  {
   "cell_type": "code",
   "execution_count": 32,
   "id": "da3ab4fb-9700-4acb-8a0b-2946213f99d3",
   "metadata": {},
   "outputs": [
    {
     "data": {
      "text/plain": [
       "20"
      ]
     },
     "execution_count": 32,
     "metadata": {},
     "output_type": "execute_result"
    }
   ],
   "source": [
    "Aman.get_age()"
   ]
  },
  {
   "cell_type": "markdown",
   "id": "e62ee32b-c868-460d-8a47-b9cde93c640d",
   "metadata": {},
   "source": [
    "Q5.What is method overriding in python? Write a python code to demonstrate method overriding."
   ]
  },
  {
   "cell_type": "markdown",
   "id": "7d8c9600-7f7f-4c6d-9a31-c8001ac69dac",
   "metadata": {},
   "source": [
    "#Solution \n",
    "Method overriding is an ability of any object-oriented programming language that allows a subclass or child class to provide a specific implementation of a method that is already provided by one of its super-classes or parent classes. When a method in a subclass has the same name, same parameters or signature and same return type(or sub-type) as a method in its super-class, then the method in the subclass is said to override the method in the super-class."
   ]
  },
  {
   "cell_type": "code",
   "execution_count": 41,
   "id": "5035cc17-5451-4625-8700-7093bbbcb6a3",
   "metadata": {},
   "outputs": [],
   "source": [
    "#program to demonstrate the method overriding\n",
    "\n",
    "class Parent:\n",
    "    \n",
    "    def __init__(self):\n",
    "        self.value = \"Inside Parent\"\n",
    "        \n",
    "    # show is the ovverriden function\n",
    "    def show(self):\n",
    "        return self.value\n",
    "class Child:\n",
    "    \n",
    "    def __init__(self):\n",
    "        self.value = \"Inside Child\"\n",
    "    \n",
    "    #show is the overriden function\n",
    "    def show(self):\n",
    "        return self.value"
   ]
  },
  {
   "cell_type": "code",
   "execution_count": 42,
   "id": "7a687b31-bb18-40bf-aeab-6e5599ff8ae2",
   "metadata": {},
   "outputs": [],
   "source": [
    "obj1 = Parent()\n",
    "obj2 = Child()"
   ]
  },
  {
   "cell_type": "code",
   "execution_count": 43,
   "id": "3df9555d-5989-4a93-a074-3bc5ec8af2f1",
   "metadata": {},
   "outputs": [
    {
     "data": {
      "text/plain": [
       "'Inside Parent'"
      ]
     },
     "execution_count": 43,
     "metadata": {},
     "output_type": "execute_result"
    }
   ],
   "source": [
    "obj1.show()"
   ]
  },
  {
   "cell_type": "code",
   "execution_count": 44,
   "id": "8be442e6-4cf6-498c-9999-72f4464d16ba",
   "metadata": {},
   "outputs": [
    {
     "data": {
      "text/plain": [
       "'Inside Child'"
      ]
     },
     "execution_count": 44,
     "metadata": {},
     "output_type": "execute_result"
    }
   ],
   "source": [
    "obj2.show()"
   ]
  },
  {
   "cell_type": "code",
   "execution_count": null,
   "id": "33dcf4b6-2ff7-4ca7-b997-f766cdfdea65",
   "metadata": {},
   "outputs": [],
   "source": []
  }
 ],
 "metadata": {
  "kernelspec": {
   "display_name": "Python 3 (ipykernel)",
   "language": "python",
   "name": "python3"
  },
  "language_info": {
   "codemirror_mode": {
    "name": "ipython",
    "version": 3
   },
   "file_extension": ".py",
   "mimetype": "text/x-python",
   "name": "python",
   "nbconvert_exporter": "python",
   "pygments_lexer": "ipython3",
   "version": "3.10.8"
  }
 },
 "nbformat": 4,
 "nbformat_minor": 5
}
